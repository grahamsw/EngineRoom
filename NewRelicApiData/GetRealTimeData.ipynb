{
 "cells": [
  {
   "cell_type": "code",
   "execution_count": 7,
   "metadata": {},
   "outputs": [],
   "source": [
    "# https://new-relic-api.readthedocs.io/en/develop/\n",
    "\n",
    "from secrets import nrkey\n",
    "from newrelic_api import AlertPolicies, Applications\n",
    "\n",
    "app = Applications(api_key=nrkey)\n",
    "alert = AlertPolicies(api_key=nrkey)\n",
    "\n",
    "website_app_id = app.list(\n",
    "   # filter_name='Marketing Website'\n",
    ")['applications'][0]['id']\n",
    "\n",
    "#marketing_policy = AlertPolicies().list(\n",
    " #   filter_name='Marketing Policy',\n",
    " #   filter_type=['application'],\n",
    " #   filter_enabled=True\n",
    "#)['alert_policies'][0]"
   ]
  },
  {
   "cell_type": "code",
   "execution_count": 8,
   "metadata": {},
   "outputs": [
    {
     "data": {
      "text/plain": [
       "5878141"
      ]
     },
     "execution_count": 8,
     "metadata": {},
     "output_type": "execute_result"
    }
   ],
   "source": [
    "website_app_id"
   ]
  },
  {
   "cell_type": "code",
   "execution_count": null,
   "metadata": {},
   "outputs": [],
   "source": []
  }
 ],
 "metadata": {
  "kernelspec": {
   "display_name": "Python 3",
   "language": "python",
   "name": "python3"
  },
  "language_info": {
   "codemirror_mode": {
    "name": "ipython",
    "version": 3
   },
   "file_extension": ".py",
   "mimetype": "text/x-python",
   "name": "python",
   "nbconvert_exporter": "python",
   "pygments_lexer": "ipython3",
   "version": "3.6.7"
  }
 },
 "nbformat": 4,
 "nbformat_minor": 2
}
