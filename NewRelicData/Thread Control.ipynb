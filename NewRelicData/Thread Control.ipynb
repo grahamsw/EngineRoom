{
 "cells": [
  {
   "cell_type": "code",
   "execution_count": 9,
   "metadata": {},
   "outputs": [],
   "source": [
    "import threading"
   ]
  },
  {
   "cell_type": "code",
   "execution_count": 10,
   "metadata": {},
   "outputs": [],
   "source": [
    "import time"
   ]
  },
  {
   "cell_type": "code",
   "execution_count": null,
   "metadata": {},
   "outputs": [],
   "source": [
    "import sys\n",
    "import threading\n",
    "import logging\n",
    "from time import sleep\n",
    "\n",
    "class StoppableThread(threading.Thread):\n",
    "   \"\"\"\n",
    "   Implements a thread that can be stopped.\n",
    "   \"\"\"\n",
    "   def __init__(self,  name, target, args=()):\n",
    "      super(StoppableThread, self).__init__(name=name, target=target, args=args)\n",
    "      self._status = 'running'\n",
    "   def stop_me(self):\n",
    "      if (self._status == 'running'):\n",
    "         self._status = 'stopping'\n",
    "   def stopped(self):\n",
    "      self._status = 'stopped'\n",
    "   def is_running(self):\n",
    "      return (self._status == 'running')\n",
    "   def is_stopping(self):\n",
    "      return (self._status == 'stopping')\n",
    "   def is_stopped(self):\n",
    "      return (self._status == 'stopped')\n",
    "\n",
    "dThreads = {}\n",
    "\n",
    "def ThreadFunc(id, arg1, arg2):\n",
    "   thread = dThreads[id]\n",
    "   while (thread.is_running()):\n",
    "      logging.info('Tick...')\n",
    "      sleep(4)\n",
    "   thread.stopped()\n",
    "\n",
    "def StartThread(id, arg1, arg2):\n",
    "   \"\"\"\n",
    "   Starts a thread and adds an entry to the global dThreads dictionary.\n",
    "   \"\"\"\n",
    "   logging.info('Starting %s' % id)\n",
    "   dThreads[id] = StoppableThread(name=id, target=ThreadFunc,\n",
    "                                  args=(id,arg1,arg2))\n",
    "   dThreads[id].start()\n",
    "\n",
    "def StopThread(id):\n",
    "   \"\"\"\n",
    "   Stops a thread and removes its entry from the global dThreads dictionary.\n",
    "   \"\"\"\n",
    "   thread = dThreads[id]\n",
    "   if (thread.is_running()):\n",
    "      logging.info('Stopping %s' % id)\n",
    "      thread.stop_me()\n",
    "      thread.join()\n",
    "      logging.info('Stopped %s' % id)\n",
    "      del dThreads[id]\n",
    "\n",
    "if __name__ == \"__main__\":\n",
    "   logging.basicConfig(format='%(threadName)s:%(asctime)s:%(levelname)s:%(message)s',\n",
    "                       stream=sys.stdout, level=logging.INFO)\n",
    "\n",
    "\n",
    "   StartThread('one', 'argval1', 'argval2')\n",
    "   sleep(2)\n",
    "   StartThread('two', 'argval3', 'argval4')\n",
    "   sleep(10)\n",
    "   StopThread('one')\n",
    "   sleep(10)\n",
    "   StopThread('two')"
   ]
  },
  {
   "cell_type": "code",
   "execution_count": 35,
   "metadata": {},
   "outputs": [],
   "source": [
    "import functools\n",
    "def rlocker(func):\n",
    "    '''wraps func in a reentrant lock'''\n",
    "    rlock = threading.RLock()\n",
    "    @functools.wraps(func)\n",
    "    def wrapper(*args, **kwargs):\n",
    "        with rlock:\n",
    "            ret = func(*args, **kwargs)\n",
    "        return ret\n",
    "    return wrapper"
   ]
  },
  {
   "cell_type": "code",
   "execution_count": 79,
   "metadata": {},
   "outputs": [],
   "source": [
    "lockingPrinter = rlocker(print)\n",
    "\n",
    "def doSomething(msg, val):\n",
    "    lockingPrinter(msg, ': ', val)\n",
    "\n",
    "\n",
    "\n",
    "def mirrorRange(rg):\n",
    "    c = list(rg).copy()\n",
    "    c.extend(rg[-2:0:-1])\n",
    "    return c\n",
    "\n",
    "def cycle(fn, rg, duration, repeat=False, stopEvent = None):\n",
    "    wait = duration / len(rg)\n",
    "    cont = True\n",
    "    while cont:\n",
    "        if stopEvent:\n",
    "            if stopEvent.isSet():\n",
    "                break\n",
    "        for v in rg:\n",
    "            fn(v)\n",
    "            time.sleep(wait)\n",
    "        cont = repeat\n",
    "\n",
    "        \n",
    "        \n",
    "def cycle2(fn, args, durs, stopEvent = None):\n",
    "    ''' \n",
    "    args and durs are generators, they may end or may \n",
    "    go on forever (in which case the stopEvent can end things)\n",
    "    '''\n",
    "    while not(stopEvent and stopEvent.isSet()):\n",
    "        v = next(args)\n",
    "        d = next(args)\n",
    "        if v == None or d == None:\n",
    "            break\n",
    "        fn(v)\n",
    "        time.sleep(d)\n",
    "        \n",
    "def pc(msg, num, dur, repeat, stopper):\n",
    "    cycle(lambda val: doSomething(msg, val), mirrorRange(range(num)), dur, repeat, stopper)\n",
    "    \n",
    "def pc2(msg, num, dur, stopper):\n",
    "    cycle2(lambda val: doSomething(msg, val), mirrorRange(range(num)), dur, stopper)"
   ]
  },
  {
   "cell_type": "code",
   "execution_count": 80,
   "metadata": {},
   "outputs": [],
   "source": [
    "def numGen(n):\n",
    "    while True:\n",
    "        yield n\n",
    "    "
   ]
  },
  {
   "cell_type": "code",
   "execution_count": 81,
   "metadata": {},
   "outputs": [],
   "source": [
    "g = numGen(5)"
   ]
  },
  {
   "cell_type": "code",
   "execution_count": 82,
   "metadata": {},
   "outputs": [
    {
     "data": {
      "text/plain": [
       "5"
      ]
     },
     "execution_count": 82,
     "metadata": {},
     "output_type": "execute_result"
    }
   ],
   "source": [
    "next(g)"
   ]
  },
  {
   "cell_type": "code",
   "execution_count": 83,
   "metadata": {},
   "outputs": [],
   "source": [
    "s2 = threading.Event()\n",
    "t2  = threading.Thread(target = pc2, args=(\"msg\", numGen(5), numGen(0.5),  s))"
   ]
  },
  {
   "cell_type": "code",
   "execution_count": 84,
   "metadata": {},
   "outputs": [
    {
     "name": "stderr",
     "output_type": "stream",
     "text": [
      "Exception in thread Thread-40:\n",
      "Traceback (most recent call last):\n",
      "  File \"C:\\Users\\g.stalker-wilde\\AppData\\Local\\conda\\conda\\envs\\tensorflow\\lib\\threading.py\", line 916, in _bootstrap_inner\n",
      "    self.run()\n",
      "  File \"C:\\Users\\g.stalker-wilde\\AppData\\Local\\conda\\conda\\envs\\tensorflow\\lib\\threading.py\", line 864, in run\n",
      "    self._target(*self._args, **self._kwargs)\n",
      "  File \"<ipython-input-79-296b312631eb>\", line 44, in pc2\n",
      "    cycle2(lambda val: doSomething(msg, val), mirrorRange(range(num)), dur, stopper)\n",
      "TypeError: 'generator' object cannot be interpreted as an integer\n",
      "\n"
     ]
    }
   ],
   "source": [
    "t2.start()"
   ]
  },
  {
   "cell_type": "code",
   "execution_count": 38,
   "metadata": {},
   "outputs": [],
   "source": [
    "s2.set()"
   ]
  },
  {
   "cell_type": "code",
   "execution_count": 39,
   "metadata": {},
   "outputs": [],
   "source": [
    "s = threading.Event()\n",
    "t  = threading.Thread(target = pc, args=(\"msg\", 17, 2, True, s))"
   ]
  },
  {
   "cell_type": "code",
   "execution_count": null,
   "metadata": {},
   "outputs": [],
   "source": [
    "t.start()"
   ]
  },
  {
   "cell_type": "code",
   "execution_count": null,
   "metadata": {},
   "outputs": [],
   "source": [
    "s.set()"
   ]
  },
  {
   "cell_type": "code",
   "execution_count": 50,
   "metadata": {},
   "outputs": [],
   "source": []
  },
  {
   "cell_type": "code",
   "execution_count": 51,
   "metadata": {},
   "outputs": [],
   "source": [
    "stopEvent1 = threading.Event()\n",
    "stopEvent3 = threading.Event()\n",
    "args = [('one', 5, 3, True, stopEvent1), ('two', 10, 5, False, None), ('three', 7, 7, True, stopEvent3)]"
   ]
  },
  {
   "cell_type": "code",
   "execution_count": 52,
   "metadata": {},
   "outputs": [],
   "source": [
    "ts = [threading.Thread(target=pc, args = (m,n,d, r,s)) for (m,n,d,r,s) in args]"
   ]
  },
  {
   "cell_type": "code",
   "execution_count": 53,
   "metadata": {},
   "outputs": [
    {
     "name": "stdout",
     "output_type": "stream",
     "text": [
      "one :  0\n",
      "two :  0\n",
      "three :  0\n"
     ]
    },
    {
     "data": {
      "text/plain": [
       "[None, None, None]"
      ]
     },
     "execution_count": 53,
     "metadata": {},
     "output_type": "execute_result"
    },
    {
     "name": "stdout",
     "output_type": "stream",
     "text": [
      "two :  1\n",
      "two :  2\n",
      "three :  1\n",
      "two :  3\n",
      "two :  4\n",
      "three :  2\n",
      "one :  1\n",
      "two :  5\n",
      "two :  6\n",
      "three :  3\n",
      "two :  7\n",
      "two :  8\n",
      "three :  4\n",
      "one :  2\n",
      "two :  9\n",
      "two :  8\n",
      "three :  5\n",
      "two :  7\n",
      "two :  6\n",
      "three :  6\n",
      "two :  5\n",
      "one :  3\n",
      "two :  4\n",
      "three :  5\n",
      "two :  3\n",
      "two :  2\n",
      "three :  4\n",
      "two :  1\n",
      "one :  4\n",
      "three :  3\n",
      "three :  2\n",
      "one :  3\n",
      "three :  1\n",
      "three :  0\n"
     ]
    }
   ],
   "source": [
    "[t.start() for t in ts]"
   ]
  },
  {
   "cell_type": "code",
   "execution_count": 54,
   "metadata": {},
   "outputs": [
    {
     "name": "stdout",
     "output_type": "stream",
     "text": [
      "one :  2\n",
      "three :  1\n"
     ]
    }
   ],
   "source": [
    "stopEvent1.set()"
   ]
  },
  {
   "cell_type": "code",
   "execution_count": 55,
   "metadata": {},
   "outputs": [
    {
     "name": "stdout",
     "output_type": "stream",
     "text": [
      "three :  2\n",
      "one :  1\n",
      "three :  3\n",
      "three :  4\n",
      "three :  5\n",
      "three :  6\n",
      "three :  5\n",
      "three :  4\n",
      "three :  3\n",
      "three :  2\n",
      "three :  1\n"
     ]
    }
   ],
   "source": [
    "stopEvent3.set()"
   ]
  },
  {
   "cell_type": "code",
   "execution_count": null,
   "metadata": {},
   "outputs": [],
   "source": []
  }
 ],
 "metadata": {
  "kernelspec": {
   "display_name": "Python 3",
   "language": "python",
   "name": "python3"
  },
  "language_info": {
   "codemirror_mode": {
    "name": "ipython",
    "version": 3
   },
   "file_extension": ".py",
   "mimetype": "text/x-python",
   "name": "python",
   "nbconvert_exporter": "python",
   "pygments_lexer": "ipython3",
   "version": "3.6.7"
  }
 },
 "nbformat": 4,
 "nbformat_minor": 2
}
